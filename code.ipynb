{
 "cells": [
  {
   "cell_type": "code",
   "execution_count": 1,
   "metadata": {},
   "outputs": [],
   "source": [
    "import re\n",
    "import pickle\n",
    "from random import uniform\n",
    "from collections import defaultdict\n",
    "\n",
    "\n",
    "class text_generator:\n",
    "    def __init__(self):\n",
    "        self.model = None\n",
    "    def gen_lines(self, path):\n",
    "        with open(path) as data:\n",
    "            for line in data:\n",
    "                yield line.lower()\n",
    "    def gen_tokens(self, lines):\n",
    "        for line in lines:\n",
    "            for token in re.compile(u'[а-яА-Я0-9]+|[.,-:;?!]+').findall(line):\n",
    "                yield token\n",
    "    def gen_bigrams(self, tokens):\n",
    "        t0 = '$'\n",
    "        for t1 in tokens:\n",
    "            yield t0, t1\n",
    "            if t1 in '.!?':\n",
    "                yield t1, '$'\n",
    "                t0 = '$'\n",
    "            else:\n",
    "                t0 = t1\n",
    "    def fit(self, path):\n",
    "        lines = self.gen_lines(path)\n",
    "        tokens = self.gen_tokens(lines)\n",
    "        bigrams = self.gen_bigrams(tokens)\n",
    "        mono, bi = defaultdict(lambda: 0.0), defaultdict(lambda: 0.0)\n",
    "        for t0, t1 in bigrams:\n",
    "            mono[t0] += 1\n",
    "            bi[t0, t1] += 1\n",
    "        self.model = {}\n",
    "        for (t0, t1), freq in bi.items():\n",
    "            if t0 in self.model:            \n",
    "                self.model[t0].append((t1, freq/mono[t0]))\n",
    "            else:\n",
    "                self.model[t0] = [(t1, freq/mono[t0])]\n",
    "    def save_model(self, filename):\n",
    "        with open(filename, 'wb') as file:\n",
    "            pickle.dump(self.model, file, pickle.HIGHEST_PROTOCOL)\n",
    "    def import_model(self, filepath):\n",
    "        with open(filepath, 'rb') as file:\n",
    "            self.model = pickle.load(file)\n",
    "    def generate_n_sentence(self, n):\n",
    "        text = ''\n",
    "        for i in range(n):\n",
    "            text += self.generate() + ' '\n",
    "            \n",
    "        return text\n",
    "        \n",
    "    def generate(self):\n",
    "        if self.model is None:\n",
    "            print(\"Model is not trained\")\n",
    "            return \"\"\n",
    "        phrase =self.unirand(self.model['$'])   \n",
    "        t0 = phrase\n",
    "        while 1:\n",
    "\n",
    "            t0 = self.unirand(self.model[t0])\n",
    "            \n",
    "            if t0 == '$': break\n",
    "            if t0 in ('.!?,;:'):\n",
    "                phrase += t0\n",
    "            else:\n",
    "                phrase += ' ' + t0\n",
    "        return phrase.capitalize()\n",
    "    def unirand(self, seq):\n",
    "        sum_, freq_ = 0, 0\n",
    "        for item, freq in seq:\n",
    "            sum_ += freq\n",
    "        rnd = uniform(0, sum_)\n",
    "        for token, freq in seq:\n",
    "            freq_ += freq\n",
    "            if rnd < freq_:\n",
    "                return token"
   ]
  },
  {
   "cell_type": "code",
   "execution_count": 3,
   "metadata": {},
   "outputs": [],
   "source": [
    "generator = text_generator()\n",
    "generator.fit(\"Chechov.txt\")\n",
    "generator.save_model(\"model.pkl\")"
   ]
  },
  {
   "cell_type": "code",
   "execution_count": 2,
   "metadata": {},
   "outputs": [
    {
     "name": "stdout",
     "output_type": "stream",
     "text": [
      "Введите количество необходимых предложений: \n",
      "10\n",
      "Что? Теперешний агроном, придумывая вс, который будет судить по избам, назначенной под наказания, ни чаек. Если взять влево от желудочно - копали канавы направо. Имелось собственных средств. По тыми. Да возиться с ними прикованные к монгольскому, в море и земли, кто - надзирателям, и попросить их жены - самое верное и если он назад, кухарку и лежит полушубок и переселенцев охоту любоваться пейзажем. Выражение лица, поселенец 40; в рыковском, так как еще ни легки кандалы; один. Чертя на данных ни к невылазной грязи, не будет признано неудобным, крутой горе в рыковском в череповецком уезде, бывало. - имевшему в тупоумной влажно - 30 лет не совершенный, отвечает с проведением сибирской язвы. По антропологии и грустный вопрос предлагают решать модного вопроса будет верст на заработки. \n"
     ]
    }
   ],
   "source": [
    "another_generator = text_generator()\n",
    "another_generator.import_model(\"model.pkl\")\n",
    "print( \"Введите количество необходимых предложений: \" )\n",
    "n = int(input())\n",
    "print(another_generator.generate_n_sentence(n))"
   ]
  },
  {
   "cell_type": "code",
   "execution_count": null,
   "metadata": {},
   "outputs": [],
   "source": []
  }
 ],
 "metadata": {
  "kernelspec": {
   "display_name": "Python 3",
   "language": "python",
   "name": "python3"
  },
  "language_info": {
   "codemirror_mode": {
    "name": "ipython",
    "version": 3
   },
   "file_extension": ".py",
   "mimetype": "text/x-python",
   "name": "python",
   "nbconvert_exporter": "python",
   "pygments_lexer": "ipython3",
   "version": "3.8.3"
  }
 },
 "nbformat": 4,
 "nbformat_minor": 2
}
